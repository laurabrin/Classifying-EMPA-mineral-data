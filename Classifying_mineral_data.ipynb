{
  "cells": [
    {
      "cell_type": "markdown",
      "metadata": {
        "colab_type": "text",
        "id": "view-in-github"
      },
      "source": [
        "<a href=\"https://colab.research.google.com/github/laurabrin/Classifying-EMPA-mineral-data/blob/adding-input/Classifying_mineral_data.ipynb\" target=\"_parent\"><img src=\"https://colab.research.google.com/assets/colab-badge.svg\" alt=\"Open In Colab\"/></a>"
      ]
    },
    {
      "cell_type": "markdown",
      "metadata": {
        "id": "TyNnltWCOgga"
      },
      "source": [
        "# Classifying Electron Microprobe Mineral Data Using KNN and Decision Tree Algorithms"
      ]
    },
    {
      "cell_type": "markdown",
      "metadata": {},
      "source": [
        "This project is for CMPT 3830: ML Work Integrated Project course at Norquest College, and is complete by Laura Brin"
      ]
    },
    {
      "cell_type": "markdown",
      "metadata": {
        "id": "CEMC_KKCOvYB"
      },
      "source": [
        "The goal of this project will be to produce both KNN and Decision Tree models to determine the mineral classification for Electron Microprobe (EMP) data. \n",
        "\n",
        "Part 1 will be to create and optimize the two models for recall. Part 2 will assess whether KNN or decision tree classification algorithm is better at correctly labelling EMP mineral data. "
      ]
    },
    {
      "cell_type": "markdown",
      "metadata": {
        "id": "zEPF_zbIPSlS"
      },
      "source": [
        "Loading libraries and data needed"
      ]
    },
    {
      "cell_type": "code",
      "execution_count": null,
      "metadata": {
        "id": "e2usVam2OcLj"
      },
      "outputs": [],
      "source": [
        "import pandas as pd\n",
        "import numpy as np\n",
        "import time as time\n",
        "import matplotlib.pyplot as plt\n",
        "import plotly.express as px\n",
        "\n",
        "from sklearn.neighbors import KNeighborsClassifier \n",
        "from sklearn.model_selection import train_test_split\n",
        "from sklearn.preprocessing import StandardScaler \n",
        "from sklearn.metrics import accuracy_score\n",
        "from sklearn.metrics import classification_report\n",
        "from sklearn.metrics import recall_score\n",
        "from sklearn.metrics import precision_score\n",
        "from sklearn.metrics import f1_score\n",
        "\n",
        "from sklearn.tree import DecisionTreeClassifier \n",
        "from sklearn.preprocessing import OneHotEncoder\n",
        "\n",
        "from six import StringIO\n",
        "from IPython.display import Image  \n",
        "from sklearn.tree import export_graphviz\n",
        "import pydotplus\n",
        "\n"
      ]
    },
    {
      "cell_type": "code",
      "execution_count": null,
      "metadata": {
        "id": "1-sdtFLgivE-"
      },
      "outputs": [],
      "source": [
        "df_emp7030 = pd.read_csv(\"/content/70-30-EMPA.csv\")"
      ]
    },
    {
      "cell_type": "markdown",
      "metadata": {
        "id": "RwXeEkhGPiRx"
      },
      "source": [
        "### The Data\n",
        "\n",
        "Electron microprobe analysis (EPMA) is a non-destructive tool commonly for determining mineral composition. A beam of electrons is directed at a mineral sample, exciting the outer electron. When the electrons return to their original state, the resulting x-rays are collected and measured and assigned to particular elements. The concentration of minor elements in a minerals chemical composition can assist in telling the story of how a particular rock was formed (temperature, presssure).\n",
        "\n",
        "In this project we will be using the measurements from 12 element oxides to classify the EMPA sample into 7 minerals: olivine, garnet, clinopyroxene, orthopyroxene, nickel oxide, chromite and spinel. Minerals have a defined chemical structure that should lend itself well to classification. In manual classification, the ratio between major elements (Si, Mg, Fe, Al) determines the mineral assignment. I am interested to see if either model will over-emphasize the importance of minor elements, which will almost certainly lead to overfitting and poor accuracy.\n",
        "\n",
        "Mineral Assignment no=nickel oxide, chr=chromite, cpx=clinopyroxene, grt=garnet, ol-olivinne, opx=orthopyroxene, sp=spinel\n"
      ]
    },
    {
      "cell_type": "code",
      "execution_count": null,
      "metadata": {
        "colab": {
          "base_uri": "https://localhost:8080/",
          "height": 519
        },
        "id": "bCohmGnCdEKP",
        "outputId": "0f7cd1a8-b375-4750-c078-e429933cf912"
      },
      "outputs": [],
      "source": [
        "df_emp7030.head(15)"
      ]
    },
    {
      "cell_type": "code",
      "execution_count": null,
      "metadata": {
        "colab": {
          "base_uri": "https://localhost:8080/"
        },
        "id": "e67PB4Djdckv",
        "outputId": "792e90f4-3b9c-4cf1-a1a4-5d11e11b1d67"
      },
      "outputs": [],
      "source": [
        "df_emp7030.dtypes"
      ]
    },
    {
      "cell_type": "code",
      "execution_count": null,
      "metadata": {
        "colab": {
          "base_uri": "https://localhost:8080/"
        },
        "id": "_5EJ2rErdnYg",
        "outputId": "48abaca3-3584-4a6d-9706-678586f2229c"
      },
      "outputs": [],
      "source": [
        "df_emp7030['Mineral'].unique()"
      ]
    },
    {
      "cell_type": "code",
      "execution_count": null,
      "metadata": {
        "id": "_yo5pRw3dwUQ"
      },
      "outputs": [],
      "source": [
        "df_emp7030.replace(to_replace=\"opx \", value=\"opx\",inplace=True)\n",
        "df_emp7030.replace(to_replace=\"train\", value=0,inplace=True)\n",
        "df_emp7030.replace(to_replace=\"test\", value=1,inplace=True)"
      ]
    },
    {
      "cell_type": "code",
      "execution_count": null,
      "metadata": {
        "id": "iEXeYoDwYgee"
      },
      "outputs": [],
      "source": [
        "df_emp7030.drop(df_emp7030[df_emp7030[\"Name\"]==\"P1-17\"].index, inplace=True)"
      ]
    },
    {
      "cell_type": "code",
      "execution_count": null,
      "metadata": {
        "id": "FCnyUM3Mf4Jf"
      },
      "outputs": [],
      "source": [
        "oxides=[\"SiO2\",\"TiO2\",\"Al2O3\",\"V2O3\",\"Cr2O3\",\"MgO\",\"CaO\",\"MnO\",\"FeO\",\"NiO\",\"Na2O\",\"K2O\",\"Total\"]\n",
        "oxides_striped=[\"SiO2\",\"Al2O3\",\"V2O3\",\"Cr2O3\",\"MgO\",\"CaO\",\"FeO\",\"NiO\"]"
      ]
    },
    {
      "cell_type": "code",
      "execution_count": null,
      "metadata": {
        "colab": {
          "base_uri": "https://localhost:8080/",
          "height": 300
        },
        "id": "aTI2RDrGUO10",
        "outputId": "a1f845ee-04d7-4f38-890a-3328eea0abe2"
      },
      "outputs": [],
      "source": [
        "df_emp7030.describe()"
      ]
    },
    {
      "cell_type": "code",
      "execution_count": null,
      "metadata": {
        "colab": {
          "base_uri": "https://localhost:8080/",
          "height": 519
        },
        "id": "QB6c5TJK7gcX",
        "outputId": "e2c75d70-7b03-4be8-bd87-c4c9192a8baa"
      },
      "outputs": [],
      "source": [
        "for index in oxides:  \n",
        "  df_emp7030[index]=df_emp7030[index].clip(lower=0)\n",
        "df_emp7030.head(15)"
      ]
    },
    {
      "cell_type": "code",
      "execution_count": null,
      "metadata": {
        "id": "btVnZFHxbugu"
      },
      "outputs": [],
      "source": [
        "mask1=df_emp7030[\"Total\"].values>90\n",
        "df_emp7030=df_emp7030.loc[mask1]\n"
      ]
    },
    {
      "cell_type": "code",
      "execution_count": null,
      "metadata": {
        "colab": {
          "base_uri": "https://localhost:8080/",
          "height": 283
        },
        "id": "BotKkWkKCwxk",
        "outputId": "596148ab-912b-4132-eecd-69ec75ba5f0f"
      },
      "outputs": [],
      "source": [
        "df_emp7030.boxplot(column=\"SiO2\")"
      ]
    },
    {
      "cell_type": "code",
      "execution_count": null,
      "metadata": {
        "colab": {
          "base_uri": "https://localhost:8080/"
        },
        "id": "cMFh1FYxIt60",
        "outputId": "e8d0648f-f4d7-494f-bc08-e55b2cb0dc46"
      },
      "outputs": [],
      "source": [
        "df_emp7030[\"Mineral\"].describe()"
      ]
    },
    {
      "cell_type": "markdown",
      "metadata": {
        "id": "YYKJynXpR3SJ"
      },
      "source": [
        "### KNN"
      ]
    },
    {
      "cell_type": "code",
      "execution_count": null,
      "metadata": {
        "id": "alLWWdYRR8Kz"
      },
      "outputs": [],
      "source": [
        "df_knn=df_emp7030.copy()\n",
        "X_train=df_knn.loc[df_emp7030[\"dataset\"]==0]\n",
        "X_train=X_train.drop([\"Mineral\",\"Name\",\"Date\",\"dataset\",\"MnO\",\"Na2O\",\"K2O\",\"TiO2\",\"Total\"],axis=1)\n",
        "\n",
        "X_test=df_knn.loc[df_emp7030[\"dataset\"]==1]\n",
        "X_test=X_test.drop([\"Mineral\",\"Name\",\"Date\",\"dataset\",\"MnO\",\"Na2O\",\"K2O\",\"TiO2\",\"Total\"],axis=1)\n",
        "\n",
        "y_train=df_knn.query(\"dataset==0\")[\"Mineral\"]\n",
        "y_test=df_knn.query(\"dataset==1\")[\"Mineral\"]"
      ]
    },
    {
      "cell_type": "code",
      "execution_count": null,
      "metadata": {
        "colab": {
          "base_uri": "https://localhost:8080/",
          "height": 363
        },
        "id": "T7qz_Ue-jtvu",
        "outputId": "663bf97c-2c4c-438d-9b4a-88eb3fa220b5"
      },
      "outputs": [],
      "source": [
        "X_train.head(10)"
      ]
    },
    {
      "cell_type": "code",
      "execution_count": null,
      "metadata": {
        "id": "1_SnGzLBid5I"
      },
      "outputs": [],
      "source": [
        "knn=KNeighborsClassifier(n_neighbors=7)"
      ]
    },
    {
      "cell_type": "code",
      "execution_count": null,
      "metadata": {
        "colab": {
          "base_uri": "https://localhost:8080/"
        },
        "id": "BNKFwcRFihpm",
        "outputId": "416f7eb6-1f08-4913-d85f-bea3b9a38bf3"
      },
      "outputs": [],
      "source": [
        "knn.fit(X_train,y_train)"
      ]
    },
    {
      "cell_type": "code",
      "execution_count": null,
      "metadata": {
        "id": "A_GdvW0Zikou"
      },
      "outputs": [],
      "source": [
        "y_predict=knn.predict(X_test)\n"
      ]
    },
    {
      "cell_type": "code",
      "execution_count": null,
      "metadata": {
        "colab": {
          "base_uri": "https://localhost:8080/"
        },
        "id": "1x00d5primyu",
        "outputId": "81e8853f-1fae-463c-d6fc-ca0647402e65"
      },
      "outputs": [],
      "source": [
        "print(f\"knn accuracy score:\", accuracy_score(y_test,y_predict))\n",
        "print(f\"knn recall score:\", recall_score(y_test,y_predict, average=\"macro\"))\n",
        "print(f\"knn precision score:\", precision_score(y_test,y_predict, average=\"weighted\"))\n",
        "print(f\"knn f1 score:\", f1_score(y_test,y_predict,average=\"weighted\"))"
      ]
    },
    {
      "cell_type": "code",
      "execution_count": null,
      "metadata": {
        "id": "0LbSYhxgE5gH"
      },
      "outputs": [],
      "source": []
    },
    {
      "cell_type": "markdown",
      "metadata": {
        "id": "E-KshH47lWM2"
      },
      "source": [
        "### Decision Tree"
      ]
    },
    {
      "cell_type": "code",
      "execution_count": null,
      "metadata": {
        "id": "NlN6Me0jlWBw"
      },
      "outputs": [],
      "source": [
        "df_tree=df_emp7030.copy()\n",
        "X_train2=df_tree.loc[df_emp7030[\"dataset\"]==0]\n",
        "X_train2=X_train2.drop([\"Mineral\",\"Name\",\"Date\",\"dataset\",\"MnO\",\"Na2O\",\"K2O\",\"TiO2\",\"Total\"],axis=1)\n",
        "\n",
        "X_test2=df_tree.loc[df_emp7030[\"dataset\"]==1]\n",
        "X_test2=X_test2.drop([\"Mineral\",\"Name\",\"Date\",\"dataset\",\"MnO\",\"Na2O\",\"K2O\",\"TiO2\",\"Total\"],axis=1)\n",
        "\n",
        "y_train2=df_tree.query(\"dataset==0\")[\"Mineral\"]\n",
        "y_test2=df_tree.query(\"dataset==1\")[\"Mineral\"]"
      ]
    },
    {
      "cell_type": "code",
      "execution_count": null,
      "metadata": {
        "id": "m9Fg2RX_mR8t"
      },
      "outputs": [],
      "source": [
        "tree=DecisionTreeClassifier(min_samples_leaf=3)"
      ]
    },
    {
      "cell_type": "code",
      "execution_count": null,
      "metadata": {
        "colab": {
          "base_uri": "https://localhost:8080/"
        },
        "id": "M5VsdIvBmWoH",
        "outputId": "17cd89dc-78cb-470d-ab9a-ee7914cea54f"
      },
      "outputs": [],
      "source": [
        "tree.fit(X_train2,y_train2)"
      ]
    },
    {
      "cell_type": "code",
      "execution_count": null,
      "metadata": {
        "id": "BAEYyzeSma8N"
      },
      "outputs": [],
      "source": [
        "y_predict2=tree.predict(X_test2)"
      ]
    },
    {
      "cell_type": "code",
      "execution_count": null,
      "metadata": {
        "colab": {
          "base_uri": "https://localhost:8080/"
        },
        "id": "dEEWuwL9mdcO",
        "outputId": "7e3a521e-997d-4ec4-8a87-60f586b828fa"
      },
      "outputs": [],
      "source": [
        "print(f\"tree accuracy score:\", accuracy_score(y_test2,y_predict2))\n",
        "print(f\"tree recall score:\", recall_score(y_test2,y_predict2, average=\"macro\"))\n",
        "print(f\"tree precision score:\", precision_score(y_test2,y_predict2, average=\"weighted\"))\n",
        "print(f\"tree f1 score:\", f1_score(y_test2,y_predict2,average=\"weighted\"))\n",
        "print(classification_report(y_test2,y_predict2))"
      ]
    },
    {
      "cell_type": "code",
      "execution_count": null,
      "metadata": {
        "colab": {
          "base_uri": "https://localhost:8080/",
          "height": 912
        },
        "id": "2oBloQS_4e1h",
        "outputId": "ee2f8302-d2a7-4805-c2ee-14c34461b842"
      },
      "outputs": [],
      "source": [
        "#Tree visualization\n",
        "dot_data = StringIO()\n",
        "export_graphviz(tree, out_file=dot_data, feature_names=oxides_striped, class_names= tree.classes_, \n",
        "                filled=True, rounded=True,\n",
        "                special_characters=True)\n",
        "graph = pydotplus.graph_from_dot_data(dot_data.getvalue())  \n",
        "Image(graph.create_png())"
      ]
    },
    {
      "cell_type": "markdown",
      "metadata": {
        "id": "uBmKwHtDcy4_"
      },
      "source": [
        "### Model Assessments and visualizations"
      ]
    },
    {
      "cell_type": "code",
      "execution_count": null,
      "metadata": {
        "id": "cYZhwGQnD1QS"
      },
      "outputs": [],
      "source": [
        "input = pd.read_csv(\"/content/input_test_set.csv\")"
      ]
    },
    {
      "cell_type": "code",
      "execution_count": null,
      "metadata": {
        "id": "Nzm6-NhoKNeu"
      },
      "outputs": [],
      "source": [
        "input.dropna(axis=0, how=\"all\",inplace=True)"
      ]
    },
    {
      "cell_type": "code",
      "execution_count": null,
      "metadata": {
        "colab": {
          "base_uri": "https://localhost:8080/",
          "height": 206
        },
        "id": "OqhZuBGUEBry",
        "outputId": "a4a24105-13d2-4b2e-9761-1b6e3877a88a"
      },
      "outputs": [],
      "source": [
        "input.head()"
      ]
    },
    {
      "cell_type": "code",
      "execution_count": null,
      "metadata": {
        "id": "OlKuuM8bFJwL"
      },
      "outputs": [],
      "source": [
        "for index in oxides:  \n",
        "  input[index]=input[index].clip(lower=0)\n"
      ]
    },
    {
      "cell_type": "code",
      "execution_count": null,
      "metadata": {
        "id": "hq8wpCs5EMcy"
      },
      "outputs": [],
      "source": [
        "X_input=input.drop([\"Mineral\",\"Name\",\"Date\",\"dataset\",\"MnO\",\"Na2O\",\"K2O\",\"TiO2\",\"Total\",\"dataset\"],axis=1)\n",
        "X_input_UK=X_input[:8]\n",
        "X_input=X_input[8:]\n",
        "y_input=input[\"Mineral\"][8:]\n",
        "y_input_UK=input[\"Mineral\"][:8]\n"
      ]
    },
    {
      "cell_type": "code",
      "execution_count": null,
      "metadata": {
        "colab": {
          "base_uri": "https://localhost:8080/"
        },
        "id": "uQaH1unfJo9V",
        "outputId": "f4795e61-38cf-4614-f383-0c1b69114780"
      },
      "outputs": [],
      "source": [
        "y_input.shape"
      ]
    },
    {
      "cell_type": "code",
      "execution_count": null,
      "metadata": {
        "id": "tJ2Ovt66Hz1d"
      },
      "outputs": [],
      "source": [
        "X_input.fillna(0,inplace=True)"
      ]
    },
    {
      "cell_type": "code",
      "execution_count": null,
      "metadata": {
        "id": "MQQ9xC1kEHMJ"
      },
      "outputs": [],
      "source": [
        "input_predict_knn=knn.predict(X_input)\n",
        "input_predict_tree=tree.predict(X_input)\n"
      ]
    },
    {
      "cell_type": "code",
      "execution_count": null,
      "metadata": {
        "colab": {
          "base_uri": "https://localhost:8080/"
        },
        "id": "a1Th5aLfIps7",
        "outputId": "ae454e04-42ab-4089-e2c5-1f6682cf63c5"
      },
      "outputs": [],
      "source": [
        "input_accuracy_knn=accuracy_score(y_input,input_predict_knn)\n",
        "input_accuracy_tree=accuracy_score(y_input,input_predict_tree)\n",
        "print(f\"knn:\",input_accuracy_knn)\n",
        "print(f\"tree:\",input_accuracy_tree)"
      ]
    },
    {
      "cell_type": "code",
      "execution_count": null,
      "metadata": {
        "colab": {
          "base_uri": "https://localhost:8080/"
        },
        "id": "FXcRBP53P-Xg",
        "outputId": "3a6cc63d-ae1a-4204-ea10-aa498d1a72c6"
      },
      "outputs": [],
      "source": [
        "input_accuracy_compare=accuracy_score(input_predict_knn,input_predict_tree)\n",
        "print(f\"comparing both together:\",input_accuracy_compare)"
      ]
    },
    {
      "cell_type": "markdown",
      "metadata": {
        "id": "Jwl26YuYbFE5"
      },
      "source": [
        "### Part 3: New Data"
      ]
    },
    {
      "cell_type": "markdown",
      "metadata": {
        "id": "vltWlZ7VbSQO"
      },
      "source": [
        "### Import new data"
      ]
    },
    {
      "cell_type": "markdown",
      "metadata": {},
      "source": [
        "A description is needed here to explain where to save or attach the new data template to the content of this collab notebook. If user would prefer to change the name of the document, it will need to be changed here too."
      ]
    },
    {
      "cell_type": "code",
      "execution_count": null,
      "metadata": {
        "id": "IP3AYkXXjtnz"
      },
      "outputs": [],
      "source": [
        "xls = pd.ExcelFile('/content/New_data_template.xlsx')\n",
        "df_new=pd.read_excel(xls, 'Format')\n",
        "df_new=df_new.loc[~(df_new==0).all(axis=1)]\n",
        "new_x=df_new.drop([\"Name\",\"MnO\",\"Na2O\",\"K2O\",\"TiO2\",\"Total\"],axis=1)\n"
      ]
    },
    {
      "cell_type": "code",
      "execution_count": null,
      "metadata": {
        "colab": {
          "base_uri": "https://localhost:8080/"
        },
        "id": "OE_WsrDdoD_K",
        "outputId": "a008bdc0-1adb-4628-dffd-cecb22638e74"
      },
      "outputs": [],
      "source": [
        "new_predict=knn.predict(new_x)\n",
        "new_predict"
      ]
    },
    {
      "cell_type": "code",
      "execution_count": null,
      "metadata": {
        "colab": {
          "base_uri": "https://localhost:8080/",
          "height": 423
        },
        "id": "E3S8d3ayqA0t",
        "outputId": "c55b55d7-4705-4422-cda8-c624d4dd6f47"
      },
      "outputs": [],
      "source": [
        "from pandas.core.internals import concat\n",
        "new_predict_df=pd.DataFrame(new_predict, columns=[\"Mineral\"])\n",
        "print_df=pd.merge(df_new, new_predict_df, left_index=True, right_index=True)\n",
        "print_df"
      ]
    },
    {
      "cell_type": "code",
      "execution_count": null,
      "metadata": {
        "id": "ULoKfLhPr_aE"
      },
      "outputs": [],
      "source": [
        "print_df.to_excel(\"New_data_assigned.xlsx\",sheet_name='Mineral Assign') "
      ]
    },
    {
      "cell_type": "markdown",
      "metadata": {
        "id": "eAXK0sG6ucld"
      },
      "source": [
        "Retrieve mineral assignment from New_data_assigned spreadsheet"
      ]
    }
  ],
  "metadata": {
    "colab": {
      "authorship_tag": "ABX9TyNhZ6tl4BQHd9naScl3HiO3",
      "collapsed_sections": [],
      "include_colab_link": true,
      "provenance": []
    },
    "kernelspec": {
      "display_name": "Python 3.10.6 64-bit",
      "language": "python",
      "name": "python3"
    },
    "language_info": {
      "codemirror_mode": {
        "name": "ipython",
        "version": 3
      },
      "file_extension": ".py",
      "mimetype": "text/x-python",
      "name": "python",
      "nbconvert_exporter": "python",
      "pygments_lexer": "ipython3",
      "version": "3.10.6"
    },
    "vscode": {
      "interpreter": {
        "hash": "5ec81bd309326cb5702c1003221fc22bf32f945db3c59efa7684c6aa919e451c"
      }
    }
  },
  "nbformat": 4,
  "nbformat_minor": 0
}
